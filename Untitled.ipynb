{
 "cells": [
  {
   "cell_type": "code",
   "execution_count": 23,
   "metadata": {},
   "outputs": [],
   "source": [
    "import numpy as np\n",
    "import cv2 as cv #opencv - for reading in images\n",
    "# import os\n",
    "import data_processing as dp\n",
    "import storage as tst\n",
    "import scipy.interpolate as intp\n",
    "import scipy.fft as fft\n",
    "from functools import partial\n",
    "import matplotlib.pyplot as plt\n",
    "import matplotlib.image as img\n",
    "import matplotlib as mpl\n",
    "mpl.rc('xtick', direction='in', top=True)\n",
    "mpl.rc('ytick', direction='in', right=True)\n",
    "mpl.rc('xtick.minor', visible=True)\n",
    "mpl.rc('ytick.minor', visible=True)\n",
    "%matplotlib inline\n",
    "\n",
    "# constants\n",
    "c = 2.99e8 # speed of light in vac [m/s]\n",
    "# factors for plotting, b/c im working in m and sec\n",
    "h2th = 1.e-15 # Hz to THz\n",
    "m2nm = 1.e9 # m to nm\n",
    "s2fs = 1.e15 # s to fs"
   ]
  },
  {
   "cell_type": "markdown",
   "metadata": {},
   "source": [
    "# FROG Testing"
   ]
  },
  {
   "cell_type": "markdown",
   "metadata": {},
   "source": [
    "NOTES:\n",
    "\n",
    "    - need to decide on a fft norm convention, i personally kinda like 'ortho', aka 1/sqrt{N} on both\n",
    "    - when finding freq or times with fft, times needs df (but is just delays), freq needs dt and is going to have the neg freqs obvs\n",
    "    - calc traces can be float, but shouldnt be <0, figure out whn to implement checks for that"
   ]
  },
  {
   "cell_type": "markdown",
   "metadata": {},
   "source": [
    "functs needed:\n",
    "\n",
    "    - sep funct for all the diff steps in FROG algorithm\n",
    "    - calc marginals\n",
    "    - funct for phase wrapping and blanking (whn I~0)\n",
    "\n",
    "need this for vanilla frog and GP, at some point we'll get to the hybrid algorithms and GPCP (or whatever its called)"
   ]
  },
  {
   "cell_type": "markdown",
   "metadata": {},
   "source": [
    "want to latex the process up here, not just to show the bois but also so i have my conventions written down too\n",
    "$I_{FROG}(\\omega,\\tau) = \\left| \\tilde{E}_{sig}(\\omega,\\tau) \\right|^2$"
   ]
  },
  {
   "cell_type": "code",
   "execution_count": 2,
   "metadata": {},
   "outputs": [],
   "source": [
    "# load the bois\n",
    "folder = './Raw_PHAROS_output/'\n",
    "trc = np.genfromtxt(folder+'128-bit-test_processed_trace.txt',dtype=np.ushort,delimiter=',',encoding='utf-8')\n",
    "d_arr = np.genfromtxt(folder+'128-bit-test_processed_delay.txt',delimiter=',',encoding='utf-8')\n",
    "f_arr = np.genfromtxt(folder+'128-bit-test_processed_freq.txt',delimiter=',',encoding='utf-8')"
   ]
  },
  {
   "cell_type": "code",
   "execution_count": 5,
   "metadata": {},
   "outputs": [
    {
     "data": {
      "image/png": "[encoded data removed]",
      "text/plain": [
       "<Figure size 432x288 with 1 Axes>"
      ]
     },
     "metadata": {
      "needs_background": "light"
     },
     "output_type": "display_data"
    }
   ],
   "source": [
    "tst.rough_plot(trc,d_arr,f_arr,title='128-bit Processed Raw PHAROS')"
   ]
  },
  {
   "cell_type": "code",
   "execution_count": 17,
   "metadata": {},
   "outputs": [],
   "source": [
    "# useful params of trace/arrays, dt,df,N,etc\n",
    "N = trc.shape[0] # trace dim, NxN\n",
    "dt = np.diff(d_arr)[0] # delay spacing btwn pnts [s]\n",
    "df = np.diff(f_arr)[0] # freq spacing btwn pnts [Hz]"
   ]
  },
  {
   "cell_type": "code",
   "execution_count": 66,
   "metadata": {},
   "outputs": [],
   "source": [
    "# start just making functions for each step\n",
    "def apply_frog(ftEs,trace):\n",
    "    '''\n",
    "    applies the measured FROG trace to the current iteration's generated E_sig(omega,tau) to generate the improved E'_sig(omega,tau), aka eqn 8.4 in Trebino's book\n",
    "    this is the general function but within my overal FROG algorithm, it will be utilized with a partial funct\n",
    "    inputs:\n",
    "    ftEs -\n",
    "    trace - \n",
    "    outputs:\n",
    "    ftEs_p - \n",
    "    '''\n",
    "    # asserts (later) shape must be same\n",
    "    ftEs_p = (ftEs/np.abs(ftEs))*np.sqrt(trace)\n",
    "    return ftEs_p\n",
    "# this will be in the main funct\n",
    "af = partial(apply_frog,trace=trc)\n",
    "af.__doc__ = 'funct apply_frog, but partial-ed to specific trace being used'"
   ]
  },
  {
   "cell_type": "code",
   "execution_count": 86,
   "metadata": {},
   "outputs": [],
   "source": [
    "def pulse2sig(pulse,delay):\n",
    "    '''\n",
    "    takes the pulse E(t) and returns the time-domain SHG signal, Esig(t,tau)\n",
    "    * delay is t and tau for rn, cant figuer out if it will ever be diff\n",
    "    '''\n",
    "    # asserts (later) len of pulse and delay must be same\n",
    "    p_spl = intp.InterpolatedUnivariateSpline(delay,pulse,ext='zeros') # replace extrapol w/ 0s\n",
    "    # just allocate space rather than for loops\n",
    "    N = len(delay)\n",
    "    gp = np.zeros((N,N)) # gate pulse gp_ij = E(ti-tauj) so [[E(t_i-tau)],[E(t_i+1-tau)],etc]\n",
    "#     gp = np.array([[p_spl(delay[i]-delay[j]) for j in range(N)] for i in range(N)])\n",
    "    Es = np.zeros_like(gp) # SHG signal Esig(t,tau), t->omega so works the same way\n",
    "    Es = \n",
    "    return"
   ]
  },
  {
   "cell_type": "code",
   "execution_count": 97,
   "metadata": {},
   "outputs": [
    {
     "data": {
      "text/plain": [
       "array([ 0.00000000e+00, -5.76987464e-16, -1.15397493e-15, -1.73096239e-15,\n",
       "       -2.30794986e-15, -2.88493732e-15, -3.46192479e-15, -4.03891225e-15,\n",
       "       -4.61589971e-15, -5.19288718e-15, -5.76987464e-15, -6.34686211e-15,\n",
       "       -6.92384957e-15, -7.50083704e-15, -8.07782450e-15, -8.65481197e-15,\n",
       "       -9.23179943e-15, -9.80878689e-15, -1.03857744e-14, -1.09627618e-14,\n",
       "       -1.15397493e-14, -1.21167368e-14, -1.26937242e-14, -1.32707117e-14,\n",
       "       -1.38476991e-14, -1.44246866e-14, -1.50016741e-14, -1.55786615e-14,\n",
       "       -1.61556490e-14, -1.67326365e-14, -1.73096239e-14, -1.78866114e-14,\n",
       "       -1.84635989e-14, -1.90405863e-14, -1.96175738e-14, -2.01945613e-14,\n",
       "       -2.07715487e-14, -2.13485362e-14, -2.19255236e-14, -2.25025111e-14,\n",
       "       -2.30794986e-14, -2.36564860e-14, -2.42334735e-14, -2.48104610e-14,\n",
       "       -2.53874484e-14, -2.59644359e-14, -2.65414234e-14, -2.71184108e-14,\n",
       "       -2.76953983e-14, -2.82723858e-14, -2.88493732e-14, -2.94263607e-14,\n",
       "       -3.00033481e-14, -3.05803356e-14, -3.11573231e-14, -3.17343105e-14,\n",
       "       -3.23112980e-14, -3.28882855e-14, -3.34652729e-14, -3.40422604e-14,\n",
       "       -3.46192479e-14, -3.51962353e-14, -3.57732228e-14, -3.63502103e-14,\n",
       "       -3.69271977e-14, -3.75041852e-14, -3.80811726e-14, -3.86581601e-14,\n",
       "       -3.92351476e-14, -3.98121350e-14, -4.03891225e-14, -4.09661100e-14,\n",
       "       -4.15430974e-14, -4.21200849e-14, -4.26970724e-14, -4.32740598e-14,\n",
       "       -4.38510473e-14, -4.44280348e-14, -4.50050222e-14, -4.55820097e-14,\n",
       "       -4.61589971e-14, -4.67359846e-14, -4.73129721e-14, -4.78899595e-14,\n",
       "       -4.84669470e-14, -4.90439345e-14, -4.96209219e-14, -5.01979094e-14,\n",
       "       -5.07748969e-14, -5.13518843e-14, -5.19288718e-14, -5.25058593e-14,\n",
       "       -5.30828467e-14, -5.36598342e-14, -5.42368217e-14, -5.48138091e-14,\n",
       "       -5.53907966e-14, -5.59677840e-14, -5.65447715e-14, -5.71217590e-14,\n",
       "       -5.76987464e-14, -5.82757339e-14, -5.88527214e-14, -5.94297088e-14,\n",
       "       -6.00066963e-14, -6.05836838e-14, -6.11606712e-14, -6.17376587e-14,\n",
       "       -6.23146462e-14, -6.28916336e-14, -6.34686211e-14, -6.40456085e-14,\n",
       "       -6.46225960e-14, -6.51995835e-14, -6.57765709e-14, -6.63535584e-14,\n",
       "       -6.69305459e-14, -6.75075333e-14, -6.80845208e-14, -6.86615083e-14,\n",
       "       -6.92384957e-14, -6.98154832e-14, -7.03924707e-14, -7.09694581e-14,\n",
       "       -7.15464456e-14, -7.21234330e-14, -7.27004205e-14, -7.32774080e-14])"
      ]
     },
     "execution_count": 97,
     "metadata": {},
     "output_type": "execute_result"
    }
   ],
   "source": [
    "np.array([[d_arr[i]-d_arr[j] for j in range(len(d_arr))] for i in range(len(d_arr))])[0,:]"
   ]
  }
 ],
 "metadata": {
  "kernelspec": {
   "display_name": "Python 3",
   "language": "python",
   "name": "python3"
  },
  "language_info": {
   "codemirror_mode": {
    "name": "ipython",
    "version": 3
   },
   "file_extension": ".py",
   "mimetype": "text/x-python",
   "name": "python",
   "nbconvert_exporter": "python",
   "pygments_lexer": "ipython3",
   "version": "3.6.13"
  }
 },
 "nbformat": 4,
 "nbformat_minor": 4
}
