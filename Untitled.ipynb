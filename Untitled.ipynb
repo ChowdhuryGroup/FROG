{
 "cells": [
  {
   "cell_type": "code",
   "execution_count": 139,
   "id": "6dbfd65c",
   "metadata": {},
   "outputs": [],
   "source": [
    "import numpy as np\n",
    "import storage as tst\n",
    "import scipy.interpolate as intp\n",
    "import scipy.fft as fft\n",
    "import vanilla_frog as frg\n",
    "import matplotlib.pyplot as plt\n",
    "import matplotlib.image as img\n",
    "import matplotlib as mpl\n",
    "mpl.rc('xtick', direction='in', top=True)\n",
    "mpl.rc('ytick', direction='in', right=True)\n",
    "mpl.rc('xtick.minor', visible=True)\n",
    "mpl.rc('ytick.minor', visible=True)\n",
    "%matplotlib inline\n",
    "\n",
    "\n",
    "# constants\n",
    "c = 2.99e8 # speed of light in vac [m/s]\n",
    "# factors for plotting, b/c im working in m and sec\n",
    "h2th = 1.e-15 # Hz to THz\n",
    "m2nm = 1.e9 # m to nm\n",
    "s2fs = 1.e15 # s to fs\n",
    "rng = np.random.default_rng()"
   ]
  },
  {
   "cell_type": "markdown",
   "id": "4c3c4eae",
   "metadata": {},
   "source": [
    "# COPRA explaination"
   ]
  },
  {
   "cell_type": "markdown",
   "id": "b9113e31",
   "metadata": {},
   "source": [
    "conventions and defs here\n",
    "\n",
    "working with temporal and spectral complex pulse envelop $E(t)$ and $\\tilde{E}(\\omega)$, respectively. with $\\omega = \\Omega - \\Omega_0$, aka what weve been doing. they use the 'forward' FT convention (refering to scipy.FFT nomenclature)."
   ]
  },
  {
   "cell_type": "markdown",
   "id": "76c505dd",
   "metadata": {},
   "source": [
    "For SHG-FROG trace, $\\tilde{T}$ is a funct of delay, $\\tau$, freq, $\\omega$, and spect pulse. exactly the same as before but with new names,\n",
    "$$ \\tilde{T}(\\tau,\\omega,\\tilde{E}) = \\left| \\textrm{FT} \\left[ S_{\\tau}[\\tilde{E}(t)] \\right] (\\omega) \\right|^2 $$\n",
    "\n",
    "where a tilde indicated fourier transform, $E$ would be the temporal electric field of the pulse, and $S_{\\tau}$ is the signal operator evaluated at $\\tau$, which is given by,\n",
    "$$ S_{\\tau}[\\tilde{E}] = \\textrm{FT}^{-1}[\\textrm{e}^{i\\tau \\omega} \\tilde{E}] \\textrm{FT}^{-1}[\\tilde{E}]$$ \n",
    "\n",
    "aka the same as the FT of the autocorrelation of the two pulses, aka $\\tilde{E}_{sig}$ from prev FROG documentation."
   ]
  },
  {
   "cell_type": "markdown",
   "id": "c1319678",
   "metadata": {},
   "source": [
    "Discrte formalism, on NxN grid for SHG-FROG\n",
    "\n",
    "def time and freq on grid as, $t_n = t_0 + n\\Delta t$ and $\\omega_n = \\omega_0 + n\\Delta \\omega$ w/ $n = 0,\\ldots,N-1$ \n",
    "\n",
    "allow pulse to be vect w/ ea. element being the pulse eval at that time/freq. and def the FT as $\\tilde{E}_n = \\textrm{FT}_{k \\rightarrow n}(E_k)$ and vice versa. here index $k$ is dummy index for $n$ to specify time rather than freq, we have $N$ spectra at ea delay time $\\tau_m$ and here obvs $m$ works the same as $n$.\n",
    "\n",
    "So if we want $\\tilde{E}_{sig}$ the discrete version of that is $\\tilde{S}_{mn}$ and the computed trace will be $\\tilde{T}_{mn}$."
   ]
  },
  {
   "cell_type": "markdown",
   "id": "f5c5278e",
   "metadata": {},
   "source": [
    "COPRA is a phase retrival algorithm that achieves this via iteriative minimization of the normalized root mean square error, $R$, very similar to Trebino's FROG error $G$, where the functions are excatly the same if the measured trace is normalized to unity. The equations for a discrete $R$ are below for completeness.\n",
    "$$ R = \\sqrt{\\frac{\\sum_{m,n} \\left| \\tilde{T}^{meas}_{mn} - \\mu \\tilde{T}_{mn} \\right|^2}{N^2 \\textrm{max}_{m,n} (\\tilde{T}^{meas}_{mn})^2}} $$\n",
    "\n",
    "where $\\mu$ is a normalization factor to be calculated for every iteration,\n",
    "$$ \\mu = \\frac{\\sum_{mn} \\tilde{T}^{meas}_{mn} \\tilde{T}_{mn}}{\\sum_{mn} (\\tilde{T}_{mn})^2} $$"
   ]
  },
  {
   "cell_type": "markdown",
   "id": "96e1a649",
   "metadata": {},
   "source": [
    "the process of COPRA is as follows, there is a set up step and then the algorithm undergoes a number of total iterations until a criterion is reached and then the trace with the lowest R is returned\n",
    "\n",
    "The setup step requires the calculation of a few variables, $\\mu$, $R$, and $g^{-1}_{M-1}$, are all defined below or above. each total iteration contains two steps, local and global iteration.\n",
    "\n",
    "local iteration is done for each spectra individually, in random order to change the spectral pulse $\\tilde{\\vec{E}}$ (done for spectral pulse because it makes gradient descent easier) one element at a time, so for each delay $m$, and the $j$th local iteration is started by creating a projected signal function, $S^{'}_{mk}$\n",
    "$$ S^{'}_{mk} = \\mu^{-1/2} \\textrm{FT}^{-1}\\left( \\frac{\\tilde{S}_{mn}}{|\\tilde{S}_{mn}|}\\sqrt{\\tilde{T}^{meas}_{mn}} \\right) $$\n",
    "\n",
    "where $\\mu$ is calculated once per local iteration. then the distance between the original and projection signal, $Z_m$ is calculated for each $m$,\n",
    "$$ Z_m = \\sum_{k} \\left| S^{'}_{mk} - S_{mk} \\right|^2 $$\n",
    "\n",
    "From here a gradient descent step is taken to improve the spectral pulse,\n",
    "$$ \\tilde{E}^{'}_n = \\tilde{E}_n - \\gamma^{j}_m \\nabla_n Z_m $$\n",
    "\n",
    "where the del op is a wirtinger derivative w.r.t to the pulse, and in discrete from can be written as (with some algebra),\n",
    "$$ \\nabla_n Z_m = -\\frac{4 \\pi \\Delta \\omega}{\\Delta t} \\left[ 2 \\textrm{e}^{-\\textrm{i} \\tau_m \\omega_n} \\textrm{FT}[(S^{'}_{mk} - S_{mk}) E^{*}_{k}] + \\textrm{FT}[(S^{'}_{mk} - S_{mk}) A^{*}_{mk}] \\right] $$\n",
    "\n",
    "where $A^{*}_{mk}$ is the gate pulse at the $m$th delay and $k$th time aka $E(t_k - \\tau_m)$, and we already saw $(S^{'}_{mk} - S_{mk})$ in $Z_m$ so that can be reused (pretty sure). the step size for the $m$th spectra, $\\gamma^{j}_{m}$, is specific to the local iteration, it has two forms and the form most resistant to noise is given by, $\\gamma^{j}_{m} = Z_m / \\textrm{max}(g^{j}_{m},g^{j-1}_{M-1})$. where the $g_m$'s are the maximum gradient norm for the $m$th spectra. with the latter ($g^{j-1}_{M-1}$) was the max gradient norm encountered in the last iteration, and the former is given by $g^{j}_{m} = \\textrm{max}(g^{j}_{m-1} , \\sum_n \\left| \\nabla_n Z_m \\right|^2)$, with the first being from the previous spectra, note $g^{j}_{-1} = 0$ and $g^{-1}_{M-1}$ must be calculated in the set up step\n",
    "\n",
    "This updated $\\tilde{\\vec{E}}'$ is used for the next $m$. once this process has been done for every delay's spectra, the $j$th local iteration is done. then the pulse is used to calculate $R$ and $\\mu$ again. the local iteration steps ends when $R$ has stagnated for $10$ iterations (however could be a specified number)"
   ]
  },
  {
   "cell_type": "markdown",
   "id": "7e2991ce",
   "metadata": {},
   "source": [
    "the next step is the global iteration, where all spectra are processed simultaneously, taking the pulse from the local iter, first the signal, trace, and error must be calculated. \n",
    "\n",
    "this iter starts with projection of the signal using a gradient descent of the sum of the squared residuals, $r$.\n",
    "$$ S^{'}_{mk} = S_{mk} - \\eta_r \\nabla_{mk} r $$\n",
    "\n",
    "where $\\eta_r$ is given by,\n",
    "$$ \\eta_r  = \\alpha \\left( \\frac{r}{\\sum_{m,k} \\left| \\nabla_{mk} r \\right|^2} \\right) $$\n",
    "\n",
    "and the gradient can be calculated as,\n",
    "$$ \\nabla_{mk} r = -4 \\mu \\frac{\\Delta t}{2 \\pi \\Delta \\omega} \\textrm{FT}^{-1}[(\\tilde{T}^{meas}_{mn} - \\mu \\tilde{T}_{mn}) \\tilde{S}_{mn}] $$\n",
    "\n",
    "Then the pulse is then updated with another gradient descent step, where the sum over all of the spectra for $Z_m$ is used, $Z$.\n",
    "$$ \\tilde{E}^{'}_n = \\tilde{E}_n - \\eta_z \\sum_m (\\nabla_n Z_m) $$\n",
    "\n",
    "CANT TELL IF ITS SUM OVER M ON Z THEN GRAD OR GRAD ON Z_M THEN SUM OVER M\n",
    "\n",
    "where \n",
    "$$ \\eta_z  = \\alpha \\left( \\frac{Z}{\\sum_{n} \\left| \\nabla_{n} Z \\right|^2} \\right) $$\n",
    "\n",
    "SAME ISSUE AS ABOVE\n",
    "\n",
    "where $\\alpha$ is the same for both $\\eta$'s and the authors set it to be $\\alpha = 0.25$\n",
    "\n",
    "this process is only done once before the step is done, the new error values are calculated, and the next total iteration is done."
   ]
  },
  {
   "cell_type": "markdown",
   "id": "490cfe77",
   "metadata": {},
   "source": [
    "indexing convention: $i$ is for time w/ $i = 0, \\ldots , N-1 $ and $j$ is for spectra w/ $j = 0, \\ldots , M-1$, COPRA doesnt need $N=M$ but itll work if it do\n",
    "\n",
    "local iteration formulas keep $j$ constant, and are handled (technically) in rand order\n",
    "\n",
    "Equations (mostly just so i can look easily and copy into process sect.)"
   ]
  },
  {
   "cell_type": "markdown",
   "id": "d0e164bd",
   "metadata": {},
   "source": [
    "## Implementation"
   ]
  },
  {
   "cell_type": "markdown",
   "id": "a4f3ac9e",
   "metadata": {},
   "source": [
    "NOTES:\n",
    "\n",
    "    - when max of trace in denom is normed to unity then R = G from FROG\n",
    "    - will converge to a local min, should either run with several rand guesses to find best one or informed intital guess\n",
    "    - 2 stage process with a setup step before start\n",
    "        - want a 'setup' funct to handle this cuz it needs the same thing for both local and global iter\n",
    "        - local setup needs a calculation of mu R and max local grad norm g^0_M-1\n",
    "    - going to start with ftE, but will get Esig the same way, bc of conv<->ft ya know\n",
    "    "
   ]
  },
  {
   "cell_type": "markdown",
   "id": "6c8823f5",
   "metadata": {},
   "source": [
    "QUESTIONS:\n",
    "\n",
    "    - can i just get Esig the way i did for the vanilla frog or do i gotta do the copra nonsense of just starting with the spectra signal always"
   ]
  },
  {
   "cell_type": "code",
   "execution_count": 2,
   "id": "3663992c",
   "metadata": {},
   "outputs": [],
   "source": [
    "# import the bois\n",
    "folder = './Raw_PHAROS_output/'\n",
    "trc = np.genfromtxt(folder+'128-bit-test_processed_trace.txt',dtype=np.ushort,delimiter=',',encoding='utf-8')\n",
    "d_arr = np.genfromtxt(folder+'128-bit-test_processed_delay.txt',delimiter=',',encoding='utf-8')\n",
    "f_arr = np.genfromtxt(folder+'128-bit-test_processed_freq.txt',delimiter=',',encoding='utf-8')"
   ]
  },
  {
   "cell_type": "code",
   "execution_count": 3,
   "id": "26897854",
   "metadata": {},
   "outputs": [
    {
     "data": {
      "image/png": "[encoded data removed]",
      "text/plain": [
       "<Figure size 432x288 with 1 Axes>"
      ]
     },
     "metadata": {
      "needs_background": "light"
     },
     "output_type": "display_data"
    }
   ],
   "source": [
    "tst.rough_plot(trc,d_arr,f_arr,title='128-bit Processed Raw PHAROS')"
   ]
  },
  {
   "cell_type": "markdown",
   "id": "d96ef5d0",
   "metadata": {},
   "source": [
    "This block is for hard coding the algorithm"
   ]
  },
  {
   "cell_type": "code",
   "execution_count": 112,
   "id": "a5445822",
   "metadata": {},
   "outputs": [],
   "source": [
    "# 'true' pulse to recover, gaussian w/ rand spectra phase and temp fwhm ~ 50fs\n",
    "f0 = .2904*s2fs # carrier freq PHz\n",
    "dtst = np.linspace(-200.,200.,num=len(d_arr))*h2th # [s]\n",
    "dt = np.diff(dtst)[0]\n",
    "ftst = fft.fftshift(fft.fftfreq(len(dtst),dt)) # Hz\n",
    "df = 1./dt\n",
    "ge = np.exp((-(dtst*s2fs)**2)/300.) # envelop\n",
    "ftge = fft.fftshift(fft.fft(ge,norm='ortho'))\n",
    "# give it the spectral phase, and do phase blanking\n",
    "si_true = np.abs(ftge)**2\n",
    "sp_true = .1*np.pi*rng.random(size=len(dtst))\n",
    "ftE_true = np.array([si_true[i]*np.exp(1j*sp_true[i]) if (ge[i]>1.e-5) else 0. for i in range(len(dtst))],dtype=complex)\n",
    "# get temporal pulse\n",
    "E_true = fft.ifftshift(fft.ifft(ftE_true,norm='ortho'))\n",
    "ti_true,tp_true = frg.IP(E_true,.01)\n",
    "# make test trace\n",
    "Es_true = frg.pulse2sig(E_true,dtst)\n",
    "ftEs_true = frg.FTsig(Es_true)\n",
    "trc_true = frg.sig2trc(ftEs_true)\n",
    "trc_true /= trc_true.max()"
   ]
  },
  {
   "cell_type": "code",
   "execution_count": 111,
   "id": "337bb4d2",
   "metadata": {
    "collapsed": true,
    "jupyter": {
     "outputs_hidden": true
    }
   },
   "outputs": [
    {
     "data": {
      "image/png": "[encoded data removed]",
      "text/plain": [
       "<Figure size 432x288 with 1 Axes>"
      ]
     },
     "metadata": {
      "needs_background": "light"
     },
     "output_type": "display_data"
    },
    {
     "data": {
      "image/png": "[encoded data removed]",
      "text/plain": [
       "<Figure size 432x288 with 1 Axes>"
      ]
     },
     "metadata": {
      "needs_background": "light"
     },
     "output_type": "display_data"
    }
   ],
   "source": [
    "plt.plot(dtst*s2fs,ti_true,'b.-');\n",
    "# plt.plot(dtst*s2fs,tp_true,'r.-');\n",
    "plt.figure();\n",
    "plt.plot(ftst*h2th,ftE_true.real,'b.-');\n",
    "plt.plot(ftst*h2th,ftE_true.imag,'r.-');"
   ]
  },
  {
   "cell_type": "code",
   "execution_count": 113,
   "id": "8c3eac5f",
   "metadata": {
    "collapsed": true,
    "jupyter": {
     "outputs_hidden": true
    }
   },
   "outputs": [
    {
     "data": {
      "image/png": "[encoded data removed]",
      "text/plain": [
       "<Figure size 432x288 with 1 Axes>"
      ]
     },
     "metadata": {
      "needs_background": "light"
     },
     "output_type": "display_data"
    }
   ],
   "source": [
    "tst.rough_plot(trc_true,dtst,ftst)"
   ]
  },
  {
   "cell_type": "code",
   "execution_count": 228,
   "id": "c3a6f621",
   "metadata": {},
   "outputs": [],
   "source": [
    "# do full algorithm with subroutines, hard coded in, then put indiviual process\n",
    "# inputs: meas trace, E(t) guess, max iter, min G, d_arr, f_arr, f0\n",
    "E0 = rng.random(size=len(dtst))*np.exp(1j*2*np.pi*rng.random(size=len(dtst))) # inital E guess\n",
    "max_iter = 50 # max global iterations\n",
    "min_g = 1.e-3 # error goal \n",
    "# allocate\n",
    "# mtrc = trc.astype(float)/np.max(trc.astype(float)) # create new meas trace array, so dont edit data, and change to float\n",
    "mtrc = trc_true.astype(float)  # just cuz synth traces are alrdy normalized and floats\n",
    "R_err = np.zeros(max_iter) # array holding R error\n",
    "N = mtrc.shape[0] # should be NxN\n",
    "ftEf = np.zeros_like(E0,dtype=complex) # final retrived E(t)\n",
    "rtrc = np.zeros((N,N)) # final retrived trace\n",
    "nu_arr = f0*2.+ftst # gonna need in the grads\n",
    "# local iter\n",
    "# pre-step set up calculations, allocate an 11 long R_local, subt num after every 11 iter, use floor div to check\n",
    "R_local = np.zeros(11)\n",
    "spec_order = np.arange(0,N,1,dtype=int) # order of spectra handled in ea local iter\n",
    "j = 0 # total num of local iter\n",
    "g = np.zeros((2,N)) # gradient norm val for the j and j-1th iter\n",
    "# gen pre-step calc trace\n",
    "E0s = frg.pulse2sig(E0,dtst) # Smk in COPRA lit\n",
    "ftE0s = frg.FTsig(E0s) # Smn in COPRA lit\n",
    "c0trc = frg.sig2trc(ftE0s)\n",
    "c0trc /= c0trc.max() # need both traces normed to unity for this\n",
    "R_local[j%11] = frg.g_err(mtrc,c0trc) # with both normed, R=G\n",
    "\n",
    "# g[j%2,:] = calc g^j=0\n",
    "# while loop to do multiple local iters, will break once stagnation, have break if j>100 at end\n",
    "# while (~np.all(np.isclose(np.diff(R_local),0))):\n",
    "j += 1 # inc j first cuz 0 is the pre-step\n",
    "rng.shuffle(spec_order) # shuffle order that the spectra will get handled for the jth iter\n",
    "# need an index for what R_local will get written to, and reset_index\n",
    "# reset_ind = j//11\n",
    "# calc mu\n",
    "# for m in range(N):\n",
    "\n",
    "# loop over total local iters, calc mu here, diff R_local and if diff is close to 0, move onto global\n",
    "# loop over spectra\n",
    "# store only current and prev iter's g's"
   ]
  },
  {
   "cell_type": "code",
   "execution_count": 221,
   "id": "ef0d83c4",
   "metadata": {},
   "outputs": [],
   "source": [
    "# do the local iter for one spectra\n",
    "m_ind = spec_order[0] # [:,m_ind] on trc, in loop 0->m\n",
    "mu_j = frg.mu_factor(mtrc,c0trc)\n",
    "# projecting \n",
    "Smn_p = np.array([(ftE0s[i,m_ind]/np.abs(ftE0s[i,m_ind]))*np.sqrt(mtrc[i,m_ind]) if (ftE0s[i,m_ind]!=0.) else 0. for i in range(N)])\n",
    "Smk_p = fft.ifft(fft.ifftshift(Smn_p),norm='ortho')/np.sqrt(mu_j)\n",
    "# dist funct Zm (for local)\n",
    "Zm = np.sum((Smk_p-E0s[:,m_ind])**2)\n",
    "DSmk = Smk_p-E0s[:,m_ind]\n",
    "# need delta_t and delta_f, then can do gradnZm"
   ]
  },
  {
   "cell_type": "code",
   "execution_count": 224,
   "id": "821b7a7b",
   "metadata": {},
   "outputs": [
    {
     "data": {
      "text/plain": [
       "(0.38956520746835654-0.718138639469565j)"
      ]
     },
     "execution_count": 224,
     "metadata": {},
     "output_type": "execute_result"
    }
   ],
   "source": [
    "Zm"
   ]
  },
  {
   "cell_type": "code",
   "execution_count": 200,
   "id": "eedb8c14",
   "metadata": {},
   "outputs": [],
   "source": [
    "# figure out how to do the grad and then grad norm\n",
    "# grad"
   ]
  },
  {
   "cell_type": "code",
   "execution_count": null,
   "id": "151cf1f9",
   "metadata": {},
   "outputs": [],
   "source": []
  },
  {
   "cell_type": "code",
   "execution_count": 152,
   "id": "d70c9dd7",
   "metadata": {},
   "outputs": [],
   "source": [
    "R_local[0] = 1."
   ]
  },
  {
   "cell_type": "code",
   "execution_count": 156,
   "id": "d419a00e",
   "metadata": {},
   "outputs": [
    {
     "data": {
      "text/plain": [
       "True"
      ]
     },
     "execution_count": 156,
     "metadata": {},
     "output_type": "execute_result"
    }
   ],
   "source": [
    "~np.all(np.isclose(np.diff(R_local),0))"
   ]
  },
  {
   "cell_type": "code",
   "execution_count": 197,
   "id": "7167ce64",
   "metadata": {},
   "outputs": [
    {
     "name": "stdout",
     "output_type": "stream",
     "text": [
      "0\n",
      "1\n",
      "2\n",
      "3\n",
      "4\n",
      "5\n",
      "6\n",
      "7\n",
      "8\n",
      "9\n",
      "10\n",
      "0\n",
      "1\n",
      "2\n",
      "3\n",
      "4\n",
      "5\n",
      "6\n",
      "7\n",
      "8\n",
      "9\n",
      "10\n"
     ]
    }
   ],
   "source": [
    "q = 0\n",
    "a = False\n",
    "while (q<22) or (a):\n",
    "    print(q%11)\n",
    "    q += 1"
   ]
  },
  {
   "cell_type": "code",
   "execution_count": null,
   "id": "1d013f6e",
   "metadata": {},
   "outputs": [],
   "source": []
  }
 ],
 "metadata": {
  "kernelspec": {
   "display_name": "Python 3",
   "language": "python",
   "name": "python3"
  },
  "language_info": {
   "codemirror_mode": {
    "name": "ipython",
    "version": 3
   },
   "file_extension": ".py",
   "mimetype": "text/x-python",
   "name": "python",
   "nbconvert_exporter": "python",
   "pygments_lexer": "ipython3",
   "version": "3.6.13"
  }
 },
 "nbformat": 4,
 "nbformat_minor": 5
}
