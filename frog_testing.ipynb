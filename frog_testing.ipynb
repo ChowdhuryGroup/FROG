{
 "cells": [
  {
   "cell_type": "code",
   "execution_count": 3,
   "metadata": {},
   "outputs": [],
   "source": [
    "import numpy as np\n",
    "import cv2 as cv #opencv - for reading in images\n",
    "# import os\n",
    "import data_processing as dp\n",
    "import storage as tst\n",
    "import scipy.interpolate as intp\n",
    "import scipy.fft as fft\n",
    "from functools import partial\n",
    "import matplotlib.pyplot as plt\n",
    "import matplotlib.image as img\n",
    "import matplotlib as mpl\n",
    "mpl.rc('xtick', direction='in', top=True)\n",
    "mpl.rc('ytick', direction='in', right=True)\n",
    "mpl.rc('xtick.minor', visible=True)\n",
    "mpl.rc('ytick.minor', visible=True)\n",
    "%matplotlib inline\n",
    "\n",
    "# constants\n",
    "c = 2.99e8 # speed of light in vac [m/s]\n",
    "# factors for plotting, b/c im working in m and sec\n",
    "h2th = 1.e-15 # Hz to THz\n",
    "m2nm = 1.e9 # m to nm\n",
    "s2fs = 1.e15 # s to fs"
   ]
  },
  {
   "cell_type": "markdown",
   "metadata": {},
   "source": [
    "# FROG Testing"
   ]
  },
  {
   "cell_type": "markdown",
   "metadata": {},
   "source": [
    "### vanilla SHG FROG"
   ]
  },
  {
   "cell_type": "markdown",
   "metadata": {},
   "source": [
    "NOTES:\n",
    "\n",
    "    - need to decide on a fft norm convention, i personally kinda like 'ortho', aka 1/sqrt{N} on both\n",
    "    - when finding freq or times with fft, times needs df (but is just delays), freq needs dt and is going to have the neg freqs obvs\n",
    "    - calc traces can be float, but shouldnt be <0, figure out whn to implement checks for that\n",
    "    - using tau-tau for times and should cover pnts on both sides of tau\n",
    "    - doing these as all seperate functs is for testing and to store in a large funct that will work faster\n",
    "    -also need to test when complex and neg numbers show up (at some pnt they have to cuz the output E field is complex)\n",
    "    - will at some point may want to try and get FT and IFT steps handle padding\n",
    "    - need to figure out what FT style i should use, it needs to stay consistent\n",
    "    - ^ spectra should be on the carrier freq, but that ignores the neg freq components\n",
    "    - see if once i finish putting this shit in a .py file i can do the compiling decorator again and give this shit a speed boost\n",
    "    - so the E(t) removes the carier freq omega_0, but FT{E} is centered on omega_0 but only contains the positive part. but this is specificallly for after frog\n",
    "    - use numpy sum for integrals like in creating new iter of E, might wanna do like a partial for it since its already a funct\n",
    "    - ^ to save mem from importing another mod, just use numpy tabulated integration methods\n",
    "    - in full program gonna wanna do some sort of check against prev Gk's, maybe use np.diff to check for stagnation"
   ]
  },
  {
   "cell_type": "markdown",
   "metadata": {},
   "source": [
    "does fft expect the guy centered at 0 freq and should i only do the positive part and if i do what does tht mean???"
   ]
  },
  {
   "cell_type": "markdown",
   "metadata": {},
   "source": [
    "AS EXPECTED, the fuckin calibration was wrong, although im pretty sure i got the axis right, id need to double check tho, talk to like yassen/liam and do a guesstimate for these guys i guess, once you have a guess for raw pharos (where id start) check its TBP (time-bandwidth prod) and make sure itll actually "
   ]
  },
  {
   "cell_type": "markdown",
   "metadata": {},
   "source": [
    "tbh need to go back to doing making and testing my shit the old fashioned way and fuckin just do it on the fuckin data"
   ]
  },
  {
   "cell_type": "markdown",
   "metadata": {},
   "source": [
    "# NEXT WEEK NEED TO GET UR POSTER RDY LIL BOI"
   ]
  },
  {
   "cell_type": "markdown",
   "metadata": {},
   "source": [
    "functs needed:\n",
    "\n",
    "    - sep funct for all the diff steps in FROG algorithm\n",
    "        * handle padding zeros in FT steps if desired\n",
    "    - overall funct to take in the processed data and do all the frog shit\n",
    "    - calc marginals\n",
    "    - funct for phase wrapping (0<phi<2*pi) and blanking (whn I~0)\n",
    "\n",
    "need this for vanilla frog and GP, at some point we'll get to the hybrid algorithms and GPCP (or whatever its called)"
   ]
  },
  {
   "cell_type": "markdown",
   "metadata": {},
   "source": [
    "want to latex the process up here, not just to show the bois but also so i have my conventions written down too\n",
    "$$I_{FROG}(\\omega,\\tau) = \\left| \\tilde{E}_{sig}(\\omega,\\tau) \\right|^2$$\n",
    "\n",
    "$$E_{sig}(t,\\tau) \\approx E(t) E(t-\\tau)$$\n",
    "\n",
    "$$\\tilde{E}'_{sig}(\\omega,\\tau) = \\frac{\\tilde{E}_{sig}(\\omega,\\tau)}{\\left| \\tilde{E}_{sig}(\\omega,\\tau) \\right|} \\sqrt{I_{FROG}(\\omega,\\tau)}$$\n",
    "\n",
    "$$E^{(k+1)}(t) = \\int^{\\infty}_{\\infty} \\mathrm{d}\\tau \\ E^{(k)}_{sig}(t,\\tau)$$\n",
    "\n",
    "$$ G^{(k)} = \\sqrt{ \\frac{1}{N^2} \\sum^{N}_{\\mathrm{i,j}} \\left| I_{FROG}(\\omega_i,\\tau_j) - \\mu I^{(k)}_{FROG}(\\omega_i ,\\tau_j ) \\right|^2 }$$\n",
    "\n",
    "$$ \\mu = \\frac{ \\sum^{N}_{\\mathrm{i,j}} I_{FROG}(\\omega_i,\\tau_j) I^{(k)}_{FROG}(\\omega_i ,\\tau_j )}{ \\sum^{N}_{\\mathrm{i,j}} I^{(k)}_{FROG}(\\omega_i ,\\tau_j ) I^{(k)}_{FROG}(\\omega_i ,\\tau_j ) } $$\n",
    "\n",
    "indexing conv: for $t_i$,$\\omega_i$ they are on vert with $\\mathrm{i} = 0,1,...,N$, $\\tau_j$ is on horz with $\\mathrm{j} = 0,1,...,N$, and for $I(\\omega_0 , \\tau_0 )$ that is the 0th,0th element and also corresponds to the 0th element of all the arrays too"
   ]
  },
  {
   "cell_type": "code",
   "execution_count": 2,
   "metadata": {},
   "outputs": [],
   "source": [
    "# load the bois\n",
    "folder = './Raw_PHAROS_output/'\n",
    "trc = np.genfromtxt(folder+'128-bit-test_processed_trace.txt',dtype=np.ushort,delimiter=',',encoding='utf-8')\n",
    "d_arr = np.genfromtxt(folder+'128-bit-test_processed_delay.txt',delimiter=',',encoding='utf-8')\n",
    "f_arr = np.genfromtxt(folder+'128-bit-test_processed_freq.txt',delimiter=',',encoding='utf-8')"
   ]
  },
  {
   "cell_type": "code",
   "execution_count": 3,
   "metadata": {},
   "outputs": [
    {
     "data": {
      "image/png": "[encoded data removed]",
      "text/plain": [
       "<Figure size 432x288 with 1 Axes>"
      ]
     },
     "metadata": {
      "needs_background": "light"
     },
     "output_type": "display_data"
    }
   ],
   "source": [
    "tst.rough_plot(trc,d_arr,f_arr,title='128-bit Processed Raw PHAROS')"
   ]
  },
  {
   "cell_type": "code",
   "execution_count": 4,
   "metadata": {},
   "outputs": [],
   "source": [
    "# useful params of trace/arrays, dt,df,N,etc\n",
    "N = trc.shape[0] # trace dim, NxN\n",
    "dt = np.diff(d_arr)[0] # delay spacing btwn pnts [s]\n",
    "df = np.diff(f_arr)[0] # freq spacing btwn pnts [Hz]"
   ]
  },
  {
   "cell_type": "code",
   "execution_count": 5,
   "metadata": {},
   "outputs": [],
   "source": [
    "# start just making functions for each step\n",
    "def apply_frog(ftEs,m_trace):\n",
    "    '''\n",
    "    applies the measured FROG trace to the current iteration's generated E_sig(omega,tau) to generate the improved E'_sig(omega,tau), aka eqn 8.4 in Trebino's book\n",
    "    this is the general function but within my overal FROG algorithm, it will be utilized with a partial funct\n",
    "    inputs:\n",
    "    ftEs -\n",
    "    m_trace - \n",
    "    outputs:\n",
    "    ftEs_p - \n",
    "    '''\n",
    "    # asserts (later) shape must be same\n",
    "    ftEs_p = (ftEs/np.abs(ftEs))*np.sqrt(m_trace)\n",
    "    return ftEs_p\n",
    "# this will be in the main funct\n",
    "af = partial(apply_frog,m_trace=trc)\n",
    "af.__doc__ = 'funct apply_frog, but partial-ed to specific trace being used'"
   ]
  },
  {
   "cell_type": "code",
   "execution_count": 6,
   "metadata": {},
   "outputs": [],
   "source": [
    "def pulse2sig(pulse,delay):\n",
    "    '''\n",
    "    takes the pulse E(t) and returns the time-domain SHG signal, Esig(t,tau)\n",
    "    * dont need time b/c using tau-tau will cover all the time vals\n",
    "    '''\n",
    "    # asserts (later) len of pulse and delay must be same\n",
    "    p_spl = intp.InterpolatedUnivariateSpline(time,pulse,ext='zeros') # replace extrapol w/ 0s\n",
    "    # just allocate space rather than for loops, plus then all the arrays are like trace already\n",
    "    N = len(delay)\n",
    "    tgrid = np.zeros((N,N)) # time-delay grid [s] tgrid_ij = t_i - tau_j\n",
    "    gp = np.zeros_like(tgrid) # gate pulse gp_ij = E(ti-tauj) so [[E(t_i-tau)],[E(t_i+1-tau)],etc]\n",
    "    Es = np.zeros_like(gp) # SHG signal Esig(t,tau), t->omega so works the same way\n",
    "    # fill the bois\n",
    "    tgrid = np.array([[delay[i]-delay[j] for j in range(N)] for i in range(N)])\n",
    "    gp = np.array([[p_spl(tgrid[i,j]) for j in range(N)] for i in range(N)])\n",
    "    # ^ dont matter if pnts are ordered whn eval spl, but even if it did, doesnt matter like this\n",
    "    Es = np.array([[pulse[i]*gp[i,j] for j in range(N)] for i in range(N)])\n",
    "    return Es"
   ]
  },
  {
   "cell_type": "code",
   "execution_count": 13,
   "metadata": {},
   "outputs": [],
   "source": [
    "def FTsig(signal,dt,N):\n",
    "    '''\n",
    "    go from Esig(t,tau) to Esig(omega,tau) via a 1-d FT\n",
    "    NOTE: using ortho FT convention\n",
    "    CURRENTLY (8/11/22) DOESNT handle padding with extra zeros, so i would recommend not\n",
    "    input:\n",
    "    signal -\n",
    "    dt - \n",
    "    N - \n",
    "    output:\n",
    "    ftEs - \n",
    "    ft_freq - not the same as the processed freqs (f_arr)\n",
    "    '''\n",
    "    # assert, idk yet\n",
    "    return"
   ]
  },
  {
   "cell_type": "code",
   "execution_count": 23,
   "metadata": {},
   "outputs": [],
   "source": [
    "def sig2trc(ftEs):\n",
    "    '''\n",
    "    computes the kth calculated trace from the kth Es(omega,tau) for use in G error\n",
    "    not partial'ed b/c ftEs changes every iteration and is only input\n",
    "    input:\n",
    "    ftEs - \n",
    "    output:\n",
    "    c_trace - \n",
    "    '''\n",
    "    return np.abs(ftEs)**2\n",
    "# might want to call this funct within others, unsure currently"
   ]
  },
  {
   "cell_type": "code",
   "execution_count": 11,
   "metadata": {},
   "outputs": [],
   "source": [
    "def g_err(m_trace,c_trace):\n",
    "    '''\n",
    "    calculated the G error for the kth iteration of the FROG algorithm\n",
    "    this quantity will be the error that defines convergence and will cause the overall program to stop once it gets low enough\n",
    "    calls mu_factor within funct\n",
    "    inputs:\n",
    "    m_trace - \n",
    "    c_trace - \n",
    "    outputs:\n",
    "    Gk - \n",
    "    '''\n",
    "    # assert, trace shapes (if not in mu_factor)\n",
    "    # get factors\n",
    "    N = m_trace.shape[0]\n",
    "    mu = mu_factor(m_trace,c_trace)\n",
    "    # calc gk\n",
    "    # asssert that gk will stay real either before w/ stuff in sum or after w/ dtype check\n",
    "    gk = np.sqrt(np.sum((m_trace - mu*c_trace))/(N**2))\n",
    "    return gk"
   ]
  },
  {
   "cell_type": "code",
   "execution_count": 9,
   "metadata": {},
   "outputs": [],
   "source": [
    "def mu_factor(m_trace,c_trace):\n",
    "    '''\n",
    "    calculates the scale factor, mu, for the kth iteration of the FROG algorithm\n",
    "    NOTE: currently (8/15/22), as i understand, this is to be re-calculated for every iteration, this may change as my understanding changes\n",
    "    inputs:\n",
    "    m_trace - \n",
    "    c_trace - \n",
    "    outputs:\n",
    "    mu_k - \n",
    "    '''\n",
    "    # assertions, trace shapes\n",
    "    # does np.sum do the right kind of summation, i feel like it may not\n",
    "    # should i be using np functions or the python magic symbols (check google i guess)\n",
    "    mu_k = np.divide(np.sum(np.multiply(m_trace,c_trace)),np.sum(np.multiply(c_trace,c_trace)))\n",
    "    return mu_k"
   ]
  },
  {
   "cell_type": "code",
   "execution_count": 20,
   "metadata": {},
   "outputs": [],
   "source": [
    "def gen_Ekp1(Es_p,dtau):\n",
    "    '''\n",
    "    generates the k+1th E(t) from the kth E'(t,tau) to be used as the pulse in the k+1th FROG cycle\n",
    "    this is a funct that will be utilized within main program, so it will be partialed\n",
    "    inputs:\n",
    "    Es_p - \n",
    "    dtau - float\n",
    "    OR\n",
    "    delays - array\n",
    "    NOTE: using np.trapz, can use array or spacing or array, since delays is evenly spaced i wanna go w/ just having spacing since i should probs alrdy have tht\n",
    "    outputs:\n",
    "    Ekp1 - \n",
    "    '''\n",
    "    # asserts: if array then check shapes\n",
    "    # trapz reduces dim of array since it sums along an axis, since delays are horz values need axis=1\n",
    "    return np.trapz(Es_p,dx=dtau,axis=1)"
   ]
  },
  {
   "cell_type": "code",
   "execution_count": 22,
   "metadata": {},
   "outputs": [],
   "source": [
    "a = np.linspace(-5.,5.,11) # t\n",
    "b = np.linspace(-5.,5.,11) # tau\n",
    "c = np.array([0,1.,2,3,4,5,4,3,2,1,0]) # pulse\n",
    "grid = np.array([[a[i]-b[j] for j in range(len(b))] for i in range(len(a))]) # t-tau\n",
    "spl = intp.InterpolatedUnivariateSpline(a,c,ext='zeros')\n",
    "gp = np.array([[spl(grid[i,j]) for j in range(len(b))] for i in range(len(a))])\n",
    "sig = np.array([[c[i]*gp[i,j] for j in range(len(b))] for i in range(len(a))])"
   ]
  },
  {
   "cell_type": "code",
   "execution_count": 58,
   "metadata": {},
   "outputs": [
    {
     "data": {
      "text/plain": [
       "array([ 0.00000000e+00,  1.35401555e+13,  2.70803110e+13,  4.06204666e+13,\n",
       "        5.41606221e+13,  6.77007776e+13,  8.12409331e+13,  9.47810886e+13,\n",
       "        1.08321244e+14,  1.21861400e+14,  1.35401555e+14,  1.48941711e+14,\n",
       "        1.62481866e+14,  1.76022022e+14,  1.89562177e+14,  2.03102333e+14,\n",
       "        2.16642488e+14,  2.30182644e+14,  2.43722799e+14,  2.57262955e+14,\n",
       "        2.70803110e+14,  2.84343266e+14,  2.97883421e+14,  3.11423577e+14,\n",
       "        3.24963732e+14,  3.38503888e+14,  3.52044043e+14,  3.65584199e+14,\n",
       "        3.79124355e+14,  3.92664510e+14,  4.06204666e+14,  4.19744821e+14,\n",
       "        4.33284977e+14,  4.46825132e+14,  4.60365288e+14,  4.73905443e+14,\n",
       "        4.87445599e+14,  5.00985754e+14,  5.14525910e+14,  5.28066065e+14,\n",
       "        5.41606221e+14,  5.55146376e+14,  5.68686532e+14,  5.82226687e+14,\n",
       "        5.95766843e+14,  6.09306998e+14,  6.22847154e+14,  6.36387309e+14,\n",
       "        6.49927465e+14,  6.63467620e+14,  6.77007776e+14,  6.90547931e+14,\n",
       "        7.04088087e+14,  7.17628242e+14,  7.31168398e+14,  7.44708554e+14,\n",
       "        7.58248709e+14,  7.71788865e+14,  7.85329020e+14,  7.98869176e+14,\n",
       "        8.12409331e+14,  8.25949487e+14,  8.39489642e+14,  8.53029798e+14,\n",
       "       -8.66569953e+14, -8.53029798e+14, -8.39489642e+14, -8.25949487e+14,\n",
       "       -8.12409331e+14, -7.98869176e+14, -7.85329020e+14, -7.71788865e+14,\n",
       "       -7.58248709e+14, -7.44708554e+14, -7.31168398e+14, -7.17628242e+14,\n",
       "       -7.04088087e+14, -6.90547931e+14, -6.77007776e+14, -6.63467620e+14,\n",
       "       -6.49927465e+14, -6.36387309e+14, -6.22847154e+14, -6.09306998e+14,\n",
       "       -5.95766843e+14, -5.82226687e+14, -5.68686532e+14, -5.55146376e+14,\n",
       "       -5.41606221e+14, -5.28066065e+14, -5.14525910e+14, -5.00985754e+14,\n",
       "       -4.87445599e+14, -4.73905443e+14, -4.60365288e+14, -4.46825132e+14,\n",
       "       -4.33284977e+14, -4.19744821e+14, -4.06204666e+14, -3.92664510e+14,\n",
       "       -3.79124355e+14, -3.65584199e+14, -3.52044043e+14, -3.38503888e+14,\n",
       "       -3.24963732e+14, -3.11423577e+14, -2.97883421e+14, -2.84343266e+14,\n",
       "       -2.70803110e+14, -2.57262955e+14, -2.43722799e+14, -2.30182644e+14,\n",
       "       -2.16642488e+14, -2.03102333e+14, -1.89562177e+14, -1.76022022e+14,\n",
       "       -1.62481866e+14, -1.48941711e+14, -1.35401555e+14, -1.21861400e+14,\n",
       "       -1.08321244e+14, -9.47810886e+13, -8.12409331e+13, -6.77007776e+13,\n",
       "       -5.41606221e+13, -4.06204666e+13, -2.70803110e+13, -1.35401555e+13])"
      ]
     },
     "execution_count": 58,
     "metadata": {},
     "output_type": "execute_result"
    }
   ],
   "source": [
    "(fft.fftfreq(N,dt))"
   ]
  },
  {
   "cell_type": "code",
   "execution_count": 54,
   "metadata": {},
   "outputs": [
    {
     "data": {
      "text/plain": [
       "array([[ 3.01511345e+01 -0.j        , -1.42838437e+01 +4.19411493j,\n",
       "         2.75516087e-01 -0.17706344j, -1.14416388e+00 +1.3204355j ,\n",
       "         1.76983200e-01 -0.38753915j, -1.00058950e-01 +0.69592528j,\n",
       "        -1.00058950e-01 -0.69592528j,  1.76983200e-01 +0.38753915j,\n",
       "        -1.14416388e+00 -1.3204355j ,  2.75516087e-01 +0.17706344j,\n",
       "        -1.42838437e+01 -4.19411493j],\n",
       "       [ 2.17088168e+01 -0.j        , -8.21615222e+00 +8.4380572j ,\n",
       "        -9.39490821e-01 -0.24312979j,  1.97836120e-01 +0.70845028j,\n",
       "        -1.21112046e+00 +0.0900219j , -6.85481033e-01 -0.47965917j,\n",
       "        -6.85481033e-01 +0.47965917j, -1.21112046e+00 -0.0900219j ,\n",
       "         1.97836120e-01 -0.70845028j, -9.39490821e-01 +0.24312979j,\n",
       "        -8.21615222e+00 -8.4380572j ],\n",
       "       [ 1.32664992e+01 -0.j        , -2.77265134e+00 +7.69368845j,\n",
       "        -1.61367020e+00 +0.5023941j , -7.57322537e-01 -0.19776361j,\n",
       "        -6.31945885e-01 +0.57090131j, -8.57659624e-01 +0.43556795j,\n",
       "        -8.57659624e-01 -0.43556795j, -6.31945885e-01 -0.57090131j,\n",
       "        -7.57322537e-01 +0.19776361j, -1.61367020e+00 -0.5023941j ,\n",
       "        -2.77265134e+00 -7.69368845j],\n",
       "       [ 5.72871555e+00 -0.j        ,  8.97560696e-03 +3.98567554j,\n",
       "        -1.01120858e+00 +0.83827405j, -9.48520249e-01 +0.38887939j,\n",
       "        -4.81886550e-01 +0.05186599j, -4.31718006e-01 -0.08814687j,\n",
       "        -4.31718006e-01 +0.08814687j, -4.81886550e-01 -0.05186599j,\n",
       "        -9.48520249e-01 -0.38887939j, -1.01120858e+00 -0.83827405j,\n",
       "         8.97560696e-03 -3.98567554j],\n",
       "       [ 0.00000000e+00 -0.j        ,  0.00000000e+00 +0.j        ,\n",
       "         0.00000000e+00 +0.j        ,  0.00000000e+00 +0.j        ,\n",
       "         0.00000000e+00 +0.j        ,  0.00000000e+00 +0.j        ,\n",
       "         0.00000000e+00 -0.j        ,  0.00000000e+00 -0.j        ,\n",
       "         0.00000000e+00 -0.j        ,  0.00000000e+00 -0.j        ,\n",
       "         0.00000000e+00 -0.j        ],\n",
       "       [ 0.00000000e+00 -0.j        ,  0.00000000e+00 +0.j        ,\n",
       "         0.00000000e+00 +0.j        ,  0.00000000e+00 +0.j        ,\n",
       "         0.00000000e+00 +0.j        ,  0.00000000e+00 +0.j        ,\n",
       "         0.00000000e+00 -0.j        ,  0.00000000e+00 -0.j        ,\n",
       "         0.00000000e+00 -0.j        ,  0.00000000e+00 -0.j        ,\n",
       "         0.00000000e+00 -0.j        ],\n",
       "       [ 5.72871555e+00 -0.j        ,  2.16236964e+00 -3.34811105j,\n",
       "         3.42449670e-01 -1.2680593j ,  5.19909665e-01 -0.88352237j,\n",
       "         3.54766281e-01 -0.33022055j,  3.89396549e-01 -0.20620532j,\n",
       "         3.89396549e-01 +0.20620532j,  3.54766281e-01 +0.33022055j,\n",
       "         5.19909665e-01 +0.88352237j,  3.42449670e-01 +1.2680593j ,\n",
       "         2.16236964e+00 +3.34811105j],\n",
       "       [ 1.32664992e+01 -0.j        ,  1.82701928e+00 -7.97135108j,\n",
       "        -2.13349083e-01 -1.67654809j, -8.79724308e-02 -0.77775878j,\n",
       "         8.45294968e-01 -0.10373198j,  9.45632055e-01 +0.17629375j,\n",
       "         9.45632055e-01 -0.17629375j,  8.45294968e-01 +0.10373198j,\n",
       "        -8.79724308e-02 +0.77775878j, -2.13349083e-01 +1.67654809j,\n",
       "         1.82701928e+00 +7.97135108j],\n",
       "       [ 2.17088168e+01 -0.j        , -2.34990894e+00-11.54053268j,\n",
       "        -6.11437230e-01 -0.75359114j,  6.73084262e-01 +0.29664542j,\n",
       "         8.61149240e-01 -0.85635196j,  5.22578631e-01 -0.65335192j,\n",
       "         5.22578631e-01 +0.65335192j,  8.61149240e-01 +0.85635196j,\n",
       "         6.73084262e-01 -0.29664542j, -6.11437230e-01 +0.75359114j,\n",
       "        -2.34990894e+00+11.54053268j],\n",
       "       [ 3.01511345e+01 -0.j        , -9.74882424e+00-11.25074293j,\n",
       "        -4.66090492e-02 +0.32417306j,  1.46982687e+00 -0.94460037j,\n",
       "        -4.08781896e-01 -0.12002919j,  2.92070668e-01 +0.63954555j,\n",
       "         2.92070668e-01 -0.63954555j, -4.08781896e-01 +0.12002919j,\n",
       "         1.46982687e+00 +0.94460037j, -4.66090492e-02 -0.32417306j,\n",
       "        -9.74882424e+00+11.25074293j],\n",
       "       [ 3.76889181e+01 -0.j        , -1.78548046e+01 -5.24264366j,\n",
       "         3.44395108e-01 +0.2213293j , -1.43020485e+00 -1.65054438j,\n",
       "         2.21229000e-01 +0.48442394j, -1.25073687e-01 -0.8699066j ,\n",
       "        -1.25073687e-01 +0.8699066j ,  2.21229000e-01 -0.48442394j,\n",
       "        -1.43020485e+00 +1.65054438j,  3.44395108e-01 -0.2213293j ,\n",
       "        -1.78548046e+01 +5.24264366j]])"
      ]
     },
     "execution_count": 54,
     "metadata": {},
     "output_type": "execute_result"
    }
   ],
   "source": [
    "fft.fftshift(fft.fft(sig,axis=1,norm='ortho'),axes=0)"
   ]
  },
  {
   "cell_type": "code",
   "execution_count": 28,
   "metadata": {},
   "outputs": [
    {
     "name": "stdout",
     "output_type": "stream",
     "text": [
      "[[ 0.00000000e+00  0.00000000e+00  0.00000000e+00  0.00000000e+00\n",
      "   0.00000000e+00 -0.00000000e+00  0.00000000e+00  0.00000000e+00\n",
      "   0.00000000e+00  0.00000000e+00  0.00000000e+00]\n",
      " [ 4.00000000e+00  5.00000000e+00  4.00000000e+00  3.00000000e+00\n",
      "   2.00000000e+00  1.00000000e+00 -1.37706218e-17  0.00000000e+00\n",
      "   0.00000000e+00  0.00000000e+00  0.00000000e+00]\n",
      " [ 6.00000000e+00  8.00000000e+00  1.00000000e+01  8.00000000e+00\n",
      "   6.00000000e+00  4.00000000e+00  2.00000000e+00 -2.75412436e-17\n",
      "   0.00000000e+00  0.00000000e+00  0.00000000e+00]\n",
      " [ 6.00000000e+00  9.00000000e+00  1.20000000e+01  1.50000000e+01\n",
      "   1.20000000e+01  9.00000000e+00  6.00000000e+00  3.00000000e+00\n",
      "  -4.13118655e-17  0.00000000e+00  0.00000000e+00]\n",
      " [ 4.00000000e+00  8.00000000e+00  1.20000000e+01  1.60000000e+01\n",
      "   2.00000000e+01  1.60000000e+01  1.20000000e+01  8.00000000e+00\n",
      "   4.00000000e+00 -5.50824873e-17  0.00000000e+00]\n",
      " [ 0.00000000e+00  5.00000000e+00  1.00000000e+01  1.50000000e+01\n",
      "   2.00000000e+01  2.50000000e+01  2.00000000e+01  1.50000000e+01\n",
      "   1.00000000e+01  5.00000000e+00 -6.88531091e-17]\n",
      " [ 0.00000000e+00  0.00000000e+00  4.00000000e+00  8.00000000e+00\n",
      "   1.20000000e+01  1.60000000e+01  2.00000000e+01  1.60000000e+01\n",
      "   1.20000000e+01  8.00000000e+00  4.00000000e+00]\n",
      " [ 0.00000000e+00  0.00000000e+00  0.00000000e+00  3.00000000e+00\n",
      "   6.00000000e+00  9.00000000e+00  1.20000000e+01  1.50000000e+01\n",
      "   1.20000000e+01  9.00000000e+00  6.00000000e+00]\n",
      " [ 0.00000000e+00  0.00000000e+00  0.00000000e+00  0.00000000e+00\n",
      "   2.00000000e+00  4.00000000e+00  6.00000000e+00  8.00000000e+00\n",
      "   1.00000000e+01  8.00000000e+00  6.00000000e+00]\n",
      " [ 0.00000000e+00  0.00000000e+00  0.00000000e+00  0.00000000e+00\n",
      "   0.00000000e+00  1.00000000e+00  2.00000000e+00  3.00000000e+00\n",
      "   4.00000000e+00  5.00000000e+00  4.00000000e+00]\n",
      " [ 0.00000000e+00  0.00000000e+00  0.00000000e+00  0.00000000e+00\n",
      "   0.00000000e+00  0.00000000e+00  0.00000000e+00  0.00000000e+00\n",
      "   0.00000000e+00  0.00000000e+00  0.00000000e+00]]\n"
     ]
    }
   ],
   "source": [
    "# print(grid)\n",
    "# print(gp)\n",
    "print(sig)"
   ]
  }
 ],
 "metadata": {
  "kernelspec": {
   "display_name": "Python 3",
   "language": "python",
   "name": "python3"
  },
  "language_info": {
   "codemirror_mode": {
    "name": "ipython",
    "version": 3
   },
   "file_extension": ".py",
   "mimetype": "text/x-python",
   "name": "python",
   "nbconvert_exporter": "python",
   "pygments_lexer": "ipython3",
   "version": "3.6.13"
  }
 },
 "nbformat": 4,
 "nbformat_minor": 4
}
